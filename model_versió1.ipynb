{
 "cells": [
  {
   "cell_type": "code",
   "execution_count": 167,
   "metadata": {},
   "outputs": [],
   "source": [
    "import torch\n",
    "import torch.nn as nn\n",
    "from torch.distributions.categorical import Categorical\n",
    "from torch.optim import Adam\n",
    "import numpy as np\n",
    "import gym\n",
    "from gym.spaces import Discrete, Box\n",
    "from gym import Env\n",
    "from gym.spaces import Discrete, Box\n",
    "import numpy as np\n",
    "import random"
   ]
  },
  {
   "cell_type": "code",
   "execution_count": 168,
   "metadata": {},
   "outputs": [],
   "source": [
    "class Market(Env):\n",
    "    def __init__(self, base_price, slope_demand, slope_competition) -> None:\n",
    "        super().__init__()\n",
    "        number_firms = 2\n",
    "        self.action_space1 = Discrete(3, start=-1)\n",
    "        self.action_space2 = Discrete(3, start=-1)\n",
    "        self.observation_space1 = Box(low=0, high=10, dtype=np.float16)\n",
    "        self.observation_space2 = Box(low=0, high=10, dtype=np.float16)\n",
    "        self.number_firms = number_firms\n",
    "        self.base_price = base_price\n",
    "        self.slope_demand = slope_demand\n",
    "        self.slope_competition = slope_competition\n",
    "        self.prices = 5+np.random.random((number_firms))\n",
    "        self.marginal_costs = np.array([1,2], dtype=float)\n",
    "        self.quantities = np.zeros((number_firms))\n",
    "        self.profits = np.zeros((number_firms))\n",
    "        self.calculate_quantities()\n",
    "        self.calculate_profits()\n",
    "        self.t=0\n",
    "\n",
    "    def calculate_profits(self):\n",
    "        self.profits = self.prices*self.quantities - self.marginal_costs*self.quantities\n",
    "    \n",
    "    def calculate_quantities(self):\n",
    "        for i in range(self.number_firms):\n",
    "            self.quantities[i] = self.base_price \\\n",
    "                - self.slope_demand*self.prices[i] \\\n",
    "                + self.slope_competition*np.sum(self.prices) \\\n",
    "                - self.slope_competition*self.prices[i]\n",
    "        # self.state = np.concatenate((self.prices, self.quantities, self.marginal_costs))\n",
    "    \n",
    "    def step(self, action1, action2):\n",
    "        self.t+=1\n",
    "        previous_profit = self.profits\n",
    "        self.prices[0] += action1*0.1\n",
    "        self.prices[1] += action2*0.1\n",
    "        # add if price <= 0 , lower bound = 0 \n",
    "        self.calculate_quantities()\n",
    "        self.calculate_profits()\n",
    "        new_profit = self.profits\n",
    "        reward = new_profit-previous_profit\n",
    "        return self.prices, reward, False, False, {}\n",
    "    \n",
    "    def reset(self):\n",
    "        self.prices = 5+np.random.random((self.number_firms))\n",
    "        self.marginal_costs = 1+np.random.random((self.number_firms))\n",
    "        self.calculate_quantities()\n",
    "        self.calculate_profits()\n",
    "    \n",
    "    def render(self):\n",
    "        pass\n"
   ]
  },
  {
   "cell_type": "markdown",
   "metadata": {},
   "source": []
  },
  {
   "cell_type": "code",
   "execution_count": 169,
   "metadata": {},
   "outputs": [],
   "source": [
    "# mlp for one agent\n",
    "\n",
    "def mlp(sizes=[2,10,3], activation=nn.Tanh, output_activation=nn.Identity):\n",
    "    # Build a feedforward neural network.\n",
    "    layers = []\n",
    "    for j in range(len(sizes)-1):\n",
    "        act = activation if j < len(sizes)-2 else output_activation\n",
    "        layers += [nn.Linear(sizes[j], sizes[j+1]), act()]\n",
    "    return nn.Sequential(*layers)"
   ]
  },
  {
   "cell_type": "code",
   "execution_count": 170,
   "metadata": {},
   "outputs": [],
   "source": [
    "firm1 = mlp()\n",
    "firm2 = mlp()\n",
    "\n",
    "firm1_optimizer = torch.optim.Adam(firm1.parameters(), lr=1e-4)\n",
    "\n",
    "firm2_optimizer = torch.optim.Adam(firm2.parameters(), lr =1e-4)"
   ]
  },
  {
   "cell_type": "code",
   "execution_count": 171,
   "metadata": {},
   "outputs": [],
   "source": [
    "def select_action(raw_output):\n",
    "    probas = torch.nn.Softmax(dim=0)(raw_output).cpu()\n",
    "    available_actions = [-1,0,1]\n",
    "    action = torch.multinomial(probas, 1)\n",
    "    return action - 1\n"
   ]
  },
  {
   "cell_type": "code",
   "execution_count": 172,
   "metadata": {},
   "outputs": [
    {
     "data": {
      "text/plain": [
       "tensor([0])"
      ]
     },
     "execution_count": 172,
     "metadata": {},
     "output_type": "execute_result"
    }
   ],
   "source": [
    "a = torch.tensor([2.5,4,5])\n",
    "select_action(a)"
   ]
  },
  {
   "cell_type": "code",
   "execution_count": 173,
   "metadata": {},
   "outputs": [],
   "source": [
    "# create an environmnet\n",
    "# different mlps --> outcome into select_action\n",
    "# you give the action to market and market will give you the new state and reward \n",
    "# you'll train to maximize reward "
   ]
  },
  {
   "cell_type": "code",
   "execution_count": 174,
   "metadata": {},
   "outputs": [],
   "source": [
    "market = Market(5, 0.3, 0.2)\n",
    "\n",
    "prices_history = []\n",
    "\n",
    "def train():\n",
    "    for i in range(500000):\n",
    "        \n",
    "        prices_history.append(market.prices.copy())\n",
    "\n",
    "        prices_tensor = torch.tensor(market.prices, dtype=torch.float32)\n",
    "\n",
    "        p1 = firm1(prices_tensor)\n",
    "\n",
    "        a1 = select_action(p1)\n",
    "\n",
    "        p2 = firm2(prices_tensor)\n",
    "\n",
    "        a2 = select_action(p2)\n",
    "\n",
    "        prices, reward, _, _, _ =  market.step(a1,a2)\n",
    "\n",
    "        def loss_function(p, r):\n",
    "            return torch.sum((p-p.mean())*r)\n",
    "\n",
    "        loss1 = loss_function(p1, reward[0])\n",
    "        loss2 = loss_function(p2, reward[1])\n",
    "\n",
    "        loss1.backward()\n",
    "        loss2.backward()\n",
    "\n",
    "        firm1_optimizer.step()\n",
    "        firm1_optimizer.zero_grad()\n",
    "\n",
    "        firm2_optimizer.step()\n",
    "        firm2_optimizer.zero_grad()"
   ]
  },
  {
   "cell_type": "code",
   "execution_count": 192,
   "metadata": {},
   "outputs": [],
   "source": [
    "training1 = train()"
   ]
  },
  {
   "cell_type": "code",
   "execution_count": 176,
   "metadata": {},
   "outputs": [
    {
     "data": {
      "text/plain": [
       "(50, 2)"
      ]
     },
     "execution_count": 176,
     "metadata": {},
     "output_type": "execute_result"
    }
   ],
   "source": [
    "np.array(prices_history).shape"
   ]
  },
  {
   "cell_type": "code",
   "execution_count": 193,
   "metadata": {},
   "outputs": [
    {
     "data": {
      "image/png": "[encoded data removed]",
      "text/plain": [
       "<Figure size 432x288 with 1 Axes>"
      ]
     },
     "metadata": {
      "needs_background": "light"
     },
     "output_type": "display_data"
    }
   ],
   "source": [
    "import matplotlib.pyplot as plt\n",
    "\n",
    "prices_history_plot = np.array(prices_history)\n",
    "prices_history_plot[:,0]\n",
    "prices_history_plot[:,1]\n",
    "plt.plot(prices_history_plot[:,0], label='firm1')\n",
    "plt.plot(prices_history_plot[:,1], label='firm2')\n",
    "plt.legend()\n",
    "plt.show()\n"
   ]
  },
  {
   "attachments": {},
   "cell_type": "markdown",
   "metadata": {},
   "source": [
    "Next Steps\n",
    "- set a 0 lower bound for price \n",
    "- revise input (pt and profit pt - profit pt-1)\n",
    "- solve exercise by hand, compare "
   ]
  },
  {
   "cell_type": "code",
   "execution_count": null,
   "metadata": {},
   "outputs": [],
   "source": []
  },
  {
   "cell_type": "code",
   "execution_count": null,
   "metadata": {},
   "outputs": [],
   "source": []
  },
  {
   "cell_type": "code",
   "execution_count": null,
   "metadata": {},
   "outputs": [],
   "source": []
  }
 ],
 "metadata": {
  "kernelspec": {
   "display_name": "base",
   "language": "python",
   "name": "python3"
  },
  "language_info": {
   "codemirror_mode": {
    "name": "ipython",
    "version": 3
   },
   "file_extension": ".py",
   "mimetype": "text/x-python",
   "name": "python",
   "nbconvert_exporter": "python",
   "pygments_lexer": "ipython3",
   "version": "3.8.8"
  },
  "orig_nbformat": 4
 },
 "nbformat": 4,
 "nbformat_minor": 2
}
